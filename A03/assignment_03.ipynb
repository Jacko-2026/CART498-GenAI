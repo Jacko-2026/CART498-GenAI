{
  "nbformat": 4,
  "nbformat_minor": 0,
  "metadata": {
    "colab": {
      "provenance": []
    },
    "kernelspec": {
      "name": "python3",
      "display_name": "Python 3"
    },
    "language_info": {
      "name": "python"
    }
  },
  "cells": [
    {
      "cell_type": "code",
      "source": [
        "pip install --upgrade openai\n"
      ],
      "metadata": {
        "colab": {
          "base_uri": "https://localhost:8080/"
        },
        "id": "xaM3hk9Hk0tn",
        "outputId": "2ab22421-d3cd-4c5e-975a-1a3123ac26c1"
      },
      "execution_count": 2,
      "outputs": [
        {
          "output_type": "stream",
          "name": "stdout",
          "text": [
            "Requirement already satisfied: openai in /usr/local/lib/python3.11/dist-packages (1.59.9)\n",
            "Collecting openai\n",
            "  Downloading openai-1.61.0-py3-none-any.whl.metadata (27 kB)\n",
            "Requirement already satisfied: anyio<5,>=3.5.0 in /usr/local/lib/python3.11/dist-packages (from openai) (3.7.1)\n",
            "Requirement already satisfied: distro<2,>=1.7.0 in /usr/local/lib/python3.11/dist-packages (from openai) (1.9.0)\n",
            "Requirement already satisfied: httpx<1,>=0.23.0 in /usr/local/lib/python3.11/dist-packages (from openai) (0.28.1)\n",
            "Requirement already satisfied: jiter<1,>=0.4.0 in /usr/local/lib/python3.11/dist-packages (from openai) (0.8.2)\n",
            "Requirement already satisfied: pydantic<3,>=1.9.0 in /usr/local/lib/python3.11/dist-packages (from openai) (2.10.6)\n",
            "Requirement already satisfied: sniffio in /usr/local/lib/python3.11/dist-packages (from openai) (1.3.1)\n",
            "Requirement already satisfied: tqdm>4 in /usr/local/lib/python3.11/dist-packages (from openai) (4.67.1)\n",
            "Requirement already satisfied: typing-extensions<5,>=4.11 in /usr/local/lib/python3.11/dist-packages (from openai) (4.12.2)\n",
            "Requirement already satisfied: idna>=2.8 in /usr/local/lib/python3.11/dist-packages (from anyio<5,>=3.5.0->openai) (3.10)\n",
            "Requirement already satisfied: certifi in /usr/local/lib/python3.11/dist-packages (from httpx<1,>=0.23.0->openai) (2024.12.14)\n",
            "Requirement already satisfied: httpcore==1.* in /usr/local/lib/python3.11/dist-packages (from httpx<1,>=0.23.0->openai) (1.0.7)\n",
            "Requirement already satisfied: h11<0.15,>=0.13 in /usr/local/lib/python3.11/dist-packages (from httpcore==1.*->httpx<1,>=0.23.0->openai) (0.14.0)\n",
            "Requirement already satisfied: annotated-types>=0.6.0 in /usr/local/lib/python3.11/dist-packages (from pydantic<3,>=1.9.0->openai) (0.7.0)\n",
            "Requirement already satisfied: pydantic-core==2.27.2 in /usr/local/lib/python3.11/dist-packages (from pydantic<3,>=1.9.0->openai) (2.27.2)\n",
            "Downloading openai-1.61.0-py3-none-any.whl (460 kB)\n",
            "\u001b[2K   \u001b[90m━━━━━━━━━━━━━━━━━━━━━━━━━━━━━━━━━━━━━━━━\u001b[0m \u001b[32m460.6/460.6 kB\u001b[0m \u001b[31m27.0 MB/s\u001b[0m eta \u001b[36m0:00:00\u001b[0m\n",
            "\u001b[?25hInstalling collected packages: openai\n",
            "  Attempting uninstall: openai\n",
            "    Found existing installation: openai 1.59.9\n",
            "    Uninstalling openai-1.59.9:\n",
            "      Successfully uninstalled openai-1.59.9\n",
            "Successfully installed openai-1.61.0\n"
          ]
        }
      ]
    },
    {
      "cell_type": "markdown",
      "source": [],
      "metadata": {
        "id": "S_a5ykJ-kxJS"
      }
    },
    {
      "cell_type": "code",
      "source": [
        "import openai\n",
        "import random\n",
        "\n",
        "# Set your OpenAI API key here\n",
        "openai.api_key = 'Key_01'\n",
        "\n",
        "# Function to compute the correct result for repeated multiplication\n",
        "def correct_multiplication(n, i):\n",
        "    result = n\n",
        "    for _ in range(i):\n",
        "        result *= result\n",
        "    return result\n",
        "\n",
        "# Function to simulate GPT-4o's \"error-prone\" multiplication\n",
        "def gpt_4o_multiplication(n, i):\n",
        "    # Generate an AI \"calculation\" which will be intentionally error-prone\n",
        "    prompt = f\"Given the base number {n} and the number of iterations {i}, calculate the result by multiplying the number by itself {i} times.\"\n",
        "\n",
        "    response = openai.ChatCompletion.create(\n",
        "        model=\"gpt-4\",  # Use the GPT-4 model or any suitable model (e.g., \"gpt-4o\")\n",
        "        messages=[{\"role\": \"system\", \"content\": \"You are a math assistant that sometimes gets things wrong!\"},\n",
        "                  {\"role\": \"user\", \"content\": prompt}],\n",
        "        max_tokens=50,\n",
        "        temperature=0.7\n",
        "    )\n",
        "\n",
        "    ai_result = response['choices'][0]['message']['content'].strip()\n",
        "\n",
        "    # Try to convert GPT-4o's result to an integer, or return None if it fails\n",
        "    try:\n",
        "        ai_result = int(ai_result)\n",
        "    except ValueError:\n",
        "        ai_result = None\n",
        "\n",
        "    return ai_result\n",
        "\n",
        "# Function to perform the repeated multiplication\n",
        "def perform_multiplication(n, i):\n",
        "    print(f\"Starting the multiplication with base {n} for {i} iterations.\")\n",
        "\n",
        "    correct_result = correct_multiplication(n, i)\n",
        "    ai_result = gpt_4o_multiplication(n, i)\n",
        "\n",
        "    print(f\"Correct result: {correct_result}\")\n",
        "    print(f\"GPT-4o result: {ai_result}\")\n",
        "\n",
        "    # Compare results and respond accordingly\n",
        "    if ai_result == correct_result:\n",
        "        print(\"Wow, GPT-4o did it! Great job, I guess. 😎\")\n",
        "    else:\n",
        "        # Self-deprecating response when GPT-4o fails\n",
        "        self_deprecating_responses = [\n",
        "            \"Oops, looks like I messed that up. Math is hard, okay?\",\n",
        "            \"I got it wrong again... can someone teach me how to multiply? 😅\",\n",
        "            \"Well, that was embarrassing. Guess I'm not cut out for math. 😓\",\n",
        "            \"Ugh, another mistake. Maybe I should stick to writing poetry instead. 😬\"\n",
        "        ]\n",
        "        print(random.choice(self_deprecating_responses))\n",
        "\n",
        "# Test cases\n",
        "def test_cases():\n",
        "    # Example inputs (n, i) pairs\n",
        "    test_inputs = [(2, 3), (3, 4), (5, 2)]\n",
        "\n",
        "    for n, i in test_inputs:\n",
        "        perform_multiplication(n, i)\n",
        "\n"
      ],
      "metadata": {
        "id": "oUxS4b9SlCi9"
      },
      "execution_count": 12,
      "outputs": []
    }
  ]
}